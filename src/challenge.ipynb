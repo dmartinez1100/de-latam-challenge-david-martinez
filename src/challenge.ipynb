{
 "cells": [
  {
   "cell_type": "markdown",
   "metadata": {},
   "source": [
    "En este archivo puedes escribir lo que estimes conveniente. Te recomendamos detallar tu solución y todas las suposiciones que estás considerando. Aquí puedes ejecutar las funciones que definiste en los otros archivos de la carpeta src, medir el tiempo, memoria, etc."
   ]
  },
  {
   "cell_type": "code",
   "execution_count": 2,
   "metadata": {},
   "outputs": [
    {
     "name": "stdout",
     "output_type": "stream",
     "text": [
      "Defaulting to user installation because normal site-packages is not writeable\n",
      "Collecting emoji\n",
      "  Obtaining dependency information for emoji from https://files.pythonhosted.org/packages/98/00/00d56e704d69cee4a92b1d517676579b4af5f2f8bc72946c464a504705b2/emoji-2.10.1-py2.py3-none-any.whl.metadata\n",
      "  Downloading emoji-2.10.1-py2.py3-none-any.whl.metadata (5.3 kB)\n",
      "Downloading emoji-2.10.1-py2.py3-none-any.whl (421 kB)\n",
      "\u001b[2K   \u001b[90m━━━━━━━━━━━━━━━━━━━━━━━━━━━━━━━━━━━━━━━━\u001b[0m \u001b[32m421.5/421.5 kB\u001b[0m \u001b[31m7.9 MB/s\u001b[0m eta \u001b[36m0:00:00\u001b[0m:00:01\u001b[0m\n",
      "\u001b[?25hInstalling collected packages: emoji\n",
      "Successfully installed emoji-2.10.1\n",
      "\n",
      "\u001b[1m[\u001b[0m\u001b[34;49mnotice\u001b[0m\u001b[1;39;49m]\u001b[0m\u001b[39;49m A new release of pip is available: \u001b[0m\u001b[31;49m23.2.1\u001b[0m\u001b[39;49m -> \u001b[0m\u001b[32;49m24.0\u001b[0m\n",
      "\u001b[1m[\u001b[0m\u001b[34;49mnotice\u001b[0m\u001b[1;39;49m]\u001b[0m\u001b[39;49m To update, run: \u001b[0m\u001b[32;49m/Library/Developer/CommandLineTools/usr/bin/python3 -m pip install --upgrade pip\u001b[0m\n"
     ]
    }
   ],
   "source": [
    "#!pip3 install -r ../requirements.txt\n",
    "#!pip3 install ray\n",
    "#!pip3 install modin\n",
    "!pip3 install emoji"
   ]
  },
  {
   "cell_type": "code",
   "execution_count": 3,
   "metadata": {},
   "outputs": [],
   "source": [
    "file_path = \"farmers-protest-tweets-2021-2-4.json\""
   ]
  },
  {
   "cell_type": "code",
   "execution_count": 1,
   "metadata": {},
   "outputs": [
    {
     "name": "stdout",
     "output_type": "stream",
     "text": [
      "[(datetime.datetime(2021, 2, 12, 0, 0), 'RanbirS00614606'), (datetime.datetime(2021, 2, 13, 0, 0), 'MaanDee08215437'), (datetime.datetime(2021, 2, 14, 0, 0), 'rebelpacifist'), (datetime.datetime(2021, 2, 15, 0, 0), 'jot__b'), (datetime.datetime(2021, 2, 16, 0, 0), 'jot__b'), (datetime.datetime(2021, 2, 17, 0, 0), 'RaaJVinderkaur'), (datetime.datetime(2021, 2, 18, 0, 0), 'neetuanjle_nitu'), (datetime.datetime(2021, 2, 19, 0, 0), 'Preetm91'), (datetime.datetime(2021, 2, 20, 0, 0), 'MangalJ23056160'), (datetime.datetime(2021, 2, 23, 0, 0), 'Surrypuria')]\n",
      "\n",
      "memory 58.32119140625\n",
      "time 4.385964075\n",
      "[(datetime.datetime(2021, 2, 12, 0, 0), 'RanbirS00614606'), (datetime.datetime(2021, 2, 13, 0, 0), 'MaanDee08215437'), (datetime.datetime(2021, 2, 14, 0, 0), 'rebelpacifist'), (datetime.datetime(2021, 2, 15, 0, 0), 'jot__b'), (datetime.datetime(2021, 2, 16, 0, 0), 'jot__b'), (datetime.datetime(2021, 2, 17, 0, 0), 'RaaJVinderkaur'), (datetime.datetime(2021, 2, 18, 0, 0), 'neetuanjle_nitu'), (datetime.datetime(2021, 2, 19, 0, 0), 'Preetm91'), (datetime.datetime(2021, 2, 20, 0, 0), 'MangalJ23056160'), (datetime.datetime(2021, 2, 23, 0, 0), 'Surrypuria')]\n",
      "\n",
      "memory 58.997674851190474\n",
      "time 4.801971539\n"
     ]
    }
   ],
   "source": [
    "from cProfile import Profile\n",
    "from pstats import SortKey, Stats\n",
    "from q1_memory import q1_memory\n",
    "from q1_time import q1_time\n",
    "from memory_profiler import memory_usage\n",
    "from statistics import mean\n",
    "\n",
    "file_path = \"farmers-protest-tweets-2021-2-4.json\"\n",
    "with Profile() as profile:\n",
    "    RS = q1_memory(file_path)\n",
    "    stats = Stats(profile)\n",
    "    stats.strip_dirs()\n",
    "    #.sort_stats(SortKey.CUMULATIVE)\n",
    "    #.print_stats(10)\n",
    "\n",
    "print(RS)\n",
    "total_time = sum(stat[2] for stat in stats.stats.values())\n",
    "mem_used = mean(memory_usage((q1_memory,(),{'file_path':file_path}),interval=0.1))\n",
    "print(\"\\nmemory\", mem_used)\n",
    "print(\"time\", total_time)\n",
    "\n",
    "with Profile() as profile:\n",
    "    RS2 = q1_time(file_path)\n",
    "    stats2 = Stats(profile)\n",
    "    stats2.strip_dirs()\n",
    "    #.sort_stats(SortKey.CUMULATIVE)\n",
    "    #.print_stats(10)\n",
    "\n",
    "print(RS2)\n",
    "mem_used2 = mean(memory_usage((q1_time,(),{'file_path':file_path}),interval=0.1))\n",
    "total_time2 = sum(stat[2] for stat in stats2.stats.values())\n",
    "print(\"\\nmemory\", mem_used2)\n",
    "print(\"time\", total_time2)"
   ]
  },
  {
   "cell_type": "code",
   "execution_count": 2,
   "metadata": {},
   "outputs": [
    {
     "name": "stdout",
     "output_type": "stream",
     "text": [
      "[('🙏', 5049), ('😂', 3072), ('🚜', 2972), ('🌾', 2182), ('🇮🇳', 2086), ('🤣', 1668), ('✊', 1651), ('❤️', 1382), ('🙏🏻', 1317), ('💚', 1040), ('👇', 873), ('👍', 754), ('💪', 646), ('🤔', 641), ('👏', 520), ('👉', 504), ('🙏🏽', 478), ('🌹', 428), ('❤', 397), ('🙏🏼', 383)]\n",
      "\n",
      "memory 164.69223550977654\n",
      "time 32.628137323000004\n",
      "[('🙏', 5049), ('😂', 3072), ('🚜', 2972), ('🌾', 2182), ('🇮🇳', 2086), ('🤣', 1668), ('✊', 1651), ('❤️', 1382), ('🙏🏻', 1317), ('💚', 1040), ('👇', 873), ('👍', 754), ('💪', 646), ('🤔', 641), ('👏', 520), ('👉', 504), ('🙏🏽', 478), ('🌹', 428), ('❤', 397), ('🙏🏼', 383)]\n",
      "\n",
      "memory 488.8976345486111\n",
      "time 17.29252526600001\n"
     ]
    }
   ],
   "source": [
    "from cProfile import Profile\n",
    "from pstats import SortKey, Stats\n",
    "from q2_memory import q2_memory\n",
    "from q2_time import q2_time\n",
    "from memory_profiler import memory_usage\n",
    "from statistics import mean\n",
    "\n",
    "file_path = \"farmers-protest-tweets-2021-2-4.json\"\n",
    "with Profile() as profile:\n",
    "    RS = q2_memory(file_path)\n",
    "    stats = Stats(profile)\n",
    "    stats.strip_dirs()\n",
    "    #.sort_stats(SortKey.CUMULATIVE)\n",
    "    #.print_stats(10)\n",
    "\n",
    "print(RS)\n",
    "total_time = sum(stat[2] for stat in stats.stats.values())\n",
    "mem_used = mean(memory_usage((q2_memory,(),{'file_path':file_path}),interval=0.1))\n",
    "print(\"\\nmemory\", mem_used)\n",
    "print(\"time\", total_time)\n",
    "\n",
    "with Profile() as profile:\n",
    "    RS2 = q2_time(file_path)\n",
    "    stats2 = Stats(profile)\n",
    "    stats2.strip_dirs()\n",
    "    #.sort_stats(SortKey.CUMULATIVE)\n",
    "    #.print_stats(10)\n",
    "\n",
    "print(RS2)\n",
    "mem_used2 = mean(memory_usage((q2_time,(),{'file_path':file_path}),interval=0.1))\n",
    "total_time2 = sum(stat[2] for stat in stats2.stats.values())\n",
    "print(\"\\nmemory\", mem_used2)\n",
    "print(\"time\", total_time2)"
   ]
  },
  {
   "cell_type": "code",
   "execution_count": null,
   "metadata": {},
   "outputs": [],
   "source": [
    "R"
   ]
  },
  {
   "cell_type": "code",
   "execution_count": 4,
   "metadata": {},
   "outputs": [
    {
     "name": "stderr",
     "output_type": "stream",
     "text": [
      "Error processing line 1 of /Users/davidfe/Library/Python/3.9/lib/python/site-packages/modin-autoimport-pandas.pth:\n",
      "\n",
      "  Traceback (most recent call last):\n",
      "    File \"/Library/Developer/CommandLineTools/Library/Frameworks/Python3.framework/Versions/3.9/lib/python3.9/site.py\", line 169, in addpackage\n",
      "      exec(line)\n",
      "    File \"<string>\", line 1, in <module>\n",
      "    File \"/Users/davidfe/Library/Python/3.9/lib/python/site-packages/pandas/__init__.py\", line 49, in <module>\n",
      "      from pandas.core.api import (\n",
      "    File \"/Users/davidfe/Library/Python/3.9/lib/python/site-packages/pandas/core/api.py\", line 1, in <module>\n",
      "      from pandas._libs import (\n",
      "    File \"/Users/davidfe/Library/Python/3.9/lib/python/site-packages/pandas/_libs/__init__.py\", line 18, in <module>\n",
      "      from pandas._libs.interval import Interval\n",
      "    File \"interval.pyx\", line 1, in init pandas._libs.interval\n",
      "    File \"hashtable.pyx\", line 1, in init pandas._libs.hashtable\n",
      "    File \"missing.pyx\", line 1, in init pandas._libs.missing\n",
      "    File \"/Users/davidfe/Library/Python/3.9/lib/python/site-packages/pandas/_libs/tslibs/__init__.py\", line 40, in <module>\n",
      "      from pandas._libs.tslibs.conversion import localize_pydatetime\n",
      "    File \"conversion.pyx\", line 1, in init pandas._libs.tslibs.conversion\n",
      "    File \"offsets.pyx\", line 1, in init pandas._libs.tslibs.offsets\n",
      "    File \"timestamps.pyx\", line 1, in init pandas._libs.tslibs.timestamps\n",
      "    File \"timedeltas.pyx\", line 1, in init pandas._libs.tslibs.timedeltas\n",
      "    File \"timezones.pyx\", line 24, in init pandas._libs.tslibs.timezones\n",
      "    File \"/Users/davidfe/Library/Python/3.9/lib/python/site-packages/dateutil/tz/__init__.py\", line 2, in <module>\n",
      "      from .tz import *\n",
      "    File \"/Users/davidfe/Library/Python/3.9/lib/python/site-packages/dateutil/tz/tz.py\", line 19, in <module>\n",
      "      import six\n",
      "  ModuleNotFoundError: No module named 'six'\n",
      "\n",
      "Remainder of file ignored\n",
      "2024-03-16 15:06:05,120\tINFO worker.py:1724 -- Started a local Ray instance.\n"
     ]
    },
    {
     "ename": "ModuleNotFoundError",
     "evalue": "Make sure all required packages are installed: No module named 'pyarrow'",
     "output_type": "error",
     "traceback": [
      "\u001b[0;31m---------------------------------------------------------------------------\u001b[0m",
      "\u001b[0;31mModuleNotFoundError\u001b[0m                       Traceback (most recent call last)",
      "File \u001b[0;32m~/Library/Python/3.9/lib/python/site-packages/modin/core/execution/dispatching/factories/dispatcher.py:151\u001b[0m, in \u001b[0;36mFactoryDispatcher._update_factory\u001b[0;34m(cls, *args)\u001b[0m\n\u001b[1;32m    150\u001b[0m \u001b[38;5;28;01mtry\u001b[39;00m:\n\u001b[0;32m--> 151\u001b[0m     \u001b[38;5;28;43mcls\u001b[39;49m\u001b[38;5;241;43m.\u001b[39;49m\u001b[43m__factory\u001b[49m\u001b[38;5;241;43m.\u001b[39;49m\u001b[43mprepare\u001b[49m\u001b[43m(\u001b[49m\u001b[43m)\u001b[49m\n\u001b[1;32m    152\u001b[0m \u001b[38;5;28;01mexcept\u001b[39;00m \u001b[38;5;167;01mModuleNotFoundError\u001b[39;00m \u001b[38;5;28;01mas\u001b[39;00m err:\n\u001b[1;32m    153\u001b[0m     \u001b[38;5;66;03m# incorrectly initialized, should be reset to None again\u001b[39;00m\n\u001b[1;32m    154\u001b[0m     \u001b[38;5;66;03m# so that an unobvious error does not appear in the following code:\u001b[39;00m\n\u001b[1;32m    155\u001b[0m     \u001b[38;5;66;03m# \"AttributeError: 'NoneType' object has no attribute 'from_non_pandas'\"\u001b[39;00m\n",
      "File \u001b[0;32m~/Library/Python/3.9/lib/python/site-packages/modin/core/execution/dispatching/factories/factories.py:683\u001b[0m, in \u001b[0;36mPandasOnRayFactory.prepare\u001b[0;34m(cls)\u001b[0m\n\u001b[1;32m    680\u001b[0m \u001b[38;5;129m@classmethod\u001b[39m\n\u001b[1;32m    681\u001b[0m \u001b[38;5;129m@doc\u001b[39m(_doc_factory_prepare_method, io_module_name\u001b[38;5;241m=\u001b[39m\u001b[38;5;124m\"\u001b[39m\u001b[38;5;124m``PandasOnRayIO``\u001b[39m\u001b[38;5;124m\"\u001b[39m)\n\u001b[1;32m    682\u001b[0m \u001b[38;5;28;01mdef\u001b[39;00m \u001b[38;5;21mprepare\u001b[39m(\u001b[38;5;28mcls\u001b[39m):\n\u001b[0;32m--> 683\u001b[0m     \u001b[38;5;28;01mfrom\u001b[39;00m \u001b[38;5;21;01mmodin\u001b[39;00m\u001b[38;5;21;01m.\u001b[39;00m\u001b[38;5;21;01mcore\u001b[39;00m\u001b[38;5;21;01m.\u001b[39;00m\u001b[38;5;21;01mexecution\u001b[39;00m\u001b[38;5;21;01m.\u001b[39;00m\u001b[38;5;21;01mray\u001b[39;00m\u001b[38;5;21;01m.\u001b[39;00m\u001b[38;5;21;01mimplementations\u001b[39;00m\u001b[38;5;21;01m.\u001b[39;00m\u001b[38;5;21;01mpandas_on_ray\u001b[39;00m\u001b[38;5;21;01m.\u001b[39;00m\u001b[38;5;21;01mio\u001b[39;00m \u001b[38;5;28;01mimport\u001b[39;00m (\n\u001b[1;32m    684\u001b[0m         PandasOnRayIO,\n\u001b[1;32m    685\u001b[0m     )\n\u001b[1;32m    687\u001b[0m     \u001b[38;5;28mcls\u001b[39m\u001b[38;5;241m.\u001b[39mio_cls \u001b[38;5;241m=\u001b[39m PandasOnRayIO\n",
      "File \u001b[0;32m~/Library/Python/3.9/lib/python/site-packages/modin/core/execution/ray/implementations/pandas_on_ray/io/__init__.py:16\u001b[0m\n\u001b[1;32m     14\u001b[0m \u001b[38;5;124;03m\"\"\"Base IO classes optimized for pandas on Ray execution.\"\"\"\u001b[39;00m\n\u001b[0;32m---> 16\u001b[0m \u001b[38;5;28;01mfrom\u001b[39;00m \u001b[38;5;21;01m.\u001b[39;00m\u001b[38;5;21;01mio\u001b[39;00m \u001b[38;5;28;01mimport\u001b[39;00m PandasOnRayIO\n\u001b[1;32m     18\u001b[0m __all__ \u001b[38;5;241m=\u001b[39m [\u001b[38;5;124m\"\u001b[39m\u001b[38;5;124mPandasOnRayIO\u001b[39m\u001b[38;5;124m\"\u001b[39m]\n",
      "File \u001b[0;32m~/Library/Python/3.9/lib/python/site-packages/modin/core/execution/ray/implementations/pandas_on_ray/io/io.py:20\u001b[0m\n\u001b[1;32m     19\u001b[0m \u001b[38;5;28;01mfrom\u001b[39;00m \u001b[38;5;21;01mpandas\u001b[39;00m\u001b[38;5;21;01m.\u001b[39;00m\u001b[38;5;21;01mio\u001b[39;00m\u001b[38;5;21;01m.\u001b[39;00m\u001b[38;5;21;01mcommon\u001b[39;00m \u001b[38;5;28;01mimport\u001b[39;00m get_handle, stringify_path\n\u001b[0;32m---> 20\u001b[0m \u001b[38;5;28;01mfrom\u001b[39;00m \u001b[38;5;21;01mray\u001b[39;00m\u001b[38;5;21;01m.\u001b[39;00m\u001b[38;5;21;01mdata\u001b[39;00m \u001b[38;5;28;01mimport\u001b[39;00m from_pandas_refs\n\u001b[1;32m     22\u001b[0m \u001b[38;5;28;01mfrom\u001b[39;00m \u001b[38;5;21;01mmodin\u001b[39;00m\u001b[38;5;21;01m.\u001b[39;00m\u001b[38;5;21;01mcore\u001b[39;00m\u001b[38;5;21;01m.\u001b[39;00m\u001b[38;5;21;01mexecution\u001b[39;00m\u001b[38;5;21;01m.\u001b[39;00m\u001b[38;5;21;01mray\u001b[39;00m\u001b[38;5;21;01m.\u001b[39;00m\u001b[38;5;21;01mcommon\u001b[39;00m \u001b[38;5;28;01mimport\u001b[39;00m RayWrapper, SignalActor\n",
      "File \u001b[0;32m~/Library/Python/3.9/lib/python/site-packages/ray/data/__init__.py:7\u001b[0m\n\u001b[1;32m      6\u001b[0m \u001b[38;5;28;01mfrom\u001b[39;00m \u001b[38;5;21;01mray\u001b[39;00m\u001b[38;5;21;01m.\u001b[39;00m\u001b[38;5;21;01m_private\u001b[39;00m\u001b[38;5;21;01m.\u001b[39;00m\u001b[38;5;21;01mutils\u001b[39;00m \u001b[38;5;28;01mimport\u001b[39;00m _get_pyarrow_version\n\u001b[0;32m----> 7\u001b[0m \u001b[38;5;28;01mfrom\u001b[39;00m \u001b[38;5;21;01mray\u001b[39;00m\u001b[38;5;21;01m.\u001b[39;00m\u001b[38;5;21;01mdata\u001b[39;00m\u001b[38;5;21;01m.\u001b[39;00m\u001b[38;5;21;01m_internal\u001b[39;00m\u001b[38;5;21;01m.\u001b[39;00m\u001b[38;5;21;01mcompute\u001b[39;00m \u001b[38;5;28;01mimport\u001b[39;00m ActorPoolStrategy\n\u001b[1;32m      8\u001b[0m \u001b[38;5;28;01mfrom\u001b[39;00m \u001b[38;5;21;01mray\u001b[39;00m\u001b[38;5;21;01m.\u001b[39;00m\u001b[38;5;21;01mdata\u001b[39;00m\u001b[38;5;21;01m.\u001b[39;00m\u001b[38;5;21;01m_internal\u001b[39;00m\u001b[38;5;21;01m.\u001b[39;00m\u001b[38;5;21;01mexecution\u001b[39;00m\u001b[38;5;21;01m.\u001b[39;00m\u001b[38;5;21;01minterfaces\u001b[39;00m \u001b[38;5;28;01mimport\u001b[39;00m (\n\u001b[1;32m      9\u001b[0m     ExecutionOptions,\n\u001b[1;32m     10\u001b[0m     ExecutionResources,\n\u001b[1;32m     11\u001b[0m     NodeIdStr,\n\u001b[1;32m     12\u001b[0m )\n",
      "File \u001b[0;32m~/Library/Python/3.9/lib/python/site-packages/ray/data/_internal/compute.py:8\u001b[0m\n\u001b[1;32m      7\u001b[0m \u001b[38;5;28;01mfrom\u001b[39;00m \u001b[38;5;21;01mray\u001b[39;00m\u001b[38;5;21;01m.\u001b[39;00m\u001b[38;5;21;01mdata\u001b[39;00m\u001b[38;5;21;01m.\u001b[39;00m\u001b[38;5;21;01m_internal\u001b[39;00m\u001b[38;5;21;01m.\u001b[39;00m\u001b[38;5;21;01mblock_list\u001b[39;00m \u001b[38;5;28;01mimport\u001b[39;00m BlockList\n\u001b[0;32m----> 8\u001b[0m \u001b[38;5;28;01mfrom\u001b[39;00m \u001b[38;5;21;01mray\u001b[39;00m\u001b[38;5;21;01m.\u001b[39;00m\u001b[38;5;21;01mdata\u001b[39;00m\u001b[38;5;21;01m.\u001b[39;00m\u001b[38;5;21;01m_internal\u001b[39;00m\u001b[38;5;21;01m.\u001b[39;00m\u001b[38;5;21;01mdelegating_block_builder\u001b[39;00m \u001b[38;5;28;01mimport\u001b[39;00m DelegatingBlockBuilder\n\u001b[1;32m      9\u001b[0m \u001b[38;5;28;01mfrom\u001b[39;00m \u001b[38;5;21;01mray\u001b[39;00m\u001b[38;5;21;01m.\u001b[39;00m\u001b[38;5;21;01mdata\u001b[39;00m\u001b[38;5;21;01m.\u001b[39;00m\u001b[38;5;21;01m_internal\u001b[39;00m\u001b[38;5;21;01m.\u001b[39;00m\u001b[38;5;21;01mexecution\u001b[39;00m\u001b[38;5;21;01m.\u001b[39;00m\u001b[38;5;21;01minterfaces\u001b[39;00m \u001b[38;5;28;01mimport\u001b[39;00m TaskContext\n",
      "File \u001b[0;32m~/Library/Python/3.9/lib/python/site-packages/ray/data/_internal/delegating_block_builder.py:4\u001b[0m\n\u001b[1;32m      2\u001b[0m \u001b[38;5;28;01mfrom\u001b[39;00m \u001b[38;5;21;01mtyping\u001b[39;00m \u001b[38;5;28;01mimport\u001b[39;00m Any, Mapping\n\u001b[0;32m----> 4\u001b[0m \u001b[38;5;28;01mfrom\u001b[39;00m \u001b[38;5;21;01mray\u001b[39;00m\u001b[38;5;21;01m.\u001b[39;00m\u001b[38;5;21;01mdata\u001b[39;00m\u001b[38;5;21;01m.\u001b[39;00m\u001b[38;5;21;01m_internal\u001b[39;00m\u001b[38;5;21;01m.\u001b[39;00m\u001b[38;5;21;01marrow_block\u001b[39;00m \u001b[38;5;28;01mimport\u001b[39;00m ArrowBlockBuilder\n\u001b[1;32m      5\u001b[0m \u001b[38;5;28;01mfrom\u001b[39;00m \u001b[38;5;21;01mray\u001b[39;00m\u001b[38;5;21;01m.\u001b[39;00m\u001b[38;5;21;01mdata\u001b[39;00m\u001b[38;5;21;01m.\u001b[39;00m\u001b[38;5;21;01m_internal\u001b[39;00m\u001b[38;5;21;01m.\u001b[39;00m\u001b[38;5;21;01mblock_builder\u001b[39;00m \u001b[38;5;28;01mimport\u001b[39;00m BlockBuilder\n",
      "File \u001b[0;32m~/Library/Python/3.9/lib/python/site-packages/ray/data/_internal/arrow_block.py:20\u001b[0m\n\u001b[1;32m     19\u001b[0m \u001b[38;5;28;01mfrom\u001b[39;00m \u001b[38;5;21;01mray\u001b[39;00m\u001b[38;5;21;01m.\u001b[39;00m\u001b[38;5;21;01m_private\u001b[39;00m\u001b[38;5;21;01m.\u001b[39;00m\u001b[38;5;21;01mutils\u001b[39;00m \u001b[38;5;28;01mimport\u001b[39;00m _get_pyarrow_version\n\u001b[0;32m---> 20\u001b[0m \u001b[38;5;28;01mfrom\u001b[39;00m \u001b[38;5;21;01mray\u001b[39;00m\u001b[38;5;21;01m.\u001b[39;00m\u001b[38;5;21;01mair\u001b[39;00m\u001b[38;5;21;01m.\u001b[39;00m\u001b[38;5;21;01mconstants\u001b[39;00m \u001b[38;5;28;01mimport\u001b[39;00m TENSOR_COLUMN_NAME\n\u001b[1;32m     21\u001b[0m \u001b[38;5;28;01mfrom\u001b[39;00m \u001b[38;5;21;01mray\u001b[39;00m\u001b[38;5;21;01m.\u001b[39;00m\u001b[38;5;21;01mdata\u001b[39;00m\u001b[38;5;21;01m.\u001b[39;00m\u001b[38;5;21;01m_internal\u001b[39;00m\u001b[38;5;21;01m.\u001b[39;00m\u001b[38;5;21;01marrow_ops\u001b[39;00m \u001b[38;5;28;01mimport\u001b[39;00m transform_polars, transform_pyarrow\n",
      "File \u001b[0;32m~/Library/Python/3.9/lib/python/site-packages/ray/air/__init__.py:1\u001b[0m\n\u001b[0;32m----> 1\u001b[0m \u001b[38;5;28;01mfrom\u001b[39;00m \u001b[38;5;21;01mray\u001b[39;00m\u001b[38;5;21;01m.\u001b[39;00m\u001b[38;5;21;01mair\u001b[39;00m\u001b[38;5;21;01m.\u001b[39;00m\u001b[38;5;21;01mconfig\u001b[39;00m \u001b[38;5;28;01mimport\u001b[39;00m (\n\u001b[1;32m      2\u001b[0m     DatasetConfig,\n\u001b[1;32m      3\u001b[0m     RunConfig,\n\u001b[1;32m      4\u001b[0m     ScalingConfig,\n\u001b[1;32m      5\u001b[0m     FailureConfig,\n\u001b[1;32m      6\u001b[0m     CheckpointConfig,\n\u001b[1;32m      7\u001b[0m )\n\u001b[1;32m      8\u001b[0m \u001b[38;5;28;01mfrom\u001b[39;00m \u001b[38;5;21;01mray\u001b[39;00m\u001b[38;5;21;01m.\u001b[39;00m\u001b[38;5;21;01mair\u001b[39;00m\u001b[38;5;21;01m.\u001b[39;00m\u001b[38;5;21;01mdata_batch_type\u001b[39;00m \u001b[38;5;28;01mimport\u001b[39;00m DataBatchType\n",
      "File \u001b[0;32m~/Library/Python/3.9/lib/python/site-packages/ray/air/config.py:17\u001b[0m\n\u001b[1;32m      5\u001b[0m \u001b[38;5;28;01mfrom\u001b[39;00m \u001b[38;5;21;01mtyping\u001b[39;00m \u001b[38;5;28;01mimport\u001b[39;00m (\n\u001b[1;32m      6\u001b[0m     TYPE_CHECKING,\n\u001b[1;32m      7\u001b[0m     Any,\n\u001b[0;32m   (...)\u001b[0m\n\u001b[1;32m     14\u001b[0m     Tuple,\n\u001b[1;32m     15\u001b[0m )\n\u001b[0;32m---> 17\u001b[0m \u001b[38;5;28;01mimport\u001b[39;00m \u001b[38;5;21;01mpyarrow\u001b[39;00m\u001b[38;5;21;01m.\u001b[39;00m\u001b[38;5;21;01mfs\u001b[39;00m\n\u001b[1;32m     19\u001b[0m \u001b[38;5;28;01mfrom\u001b[39;00m \u001b[38;5;21;01mray\u001b[39;00m\u001b[38;5;21;01m.\u001b[39;00m\u001b[38;5;21;01m_private\u001b[39;00m\u001b[38;5;21;01m.\u001b[39;00m\u001b[38;5;21;01mthirdparty\u001b[39;00m\u001b[38;5;21;01m.\u001b[39;00m\u001b[38;5;21;01mtabulate\u001b[39;00m\u001b[38;5;21;01m.\u001b[39;00m\u001b[38;5;21;01mtabulate\u001b[39;00m \u001b[38;5;28;01mimport\u001b[39;00m tabulate\n",
      "\u001b[0;31mModuleNotFoundError\u001b[0m: No module named 'pyarrow'",
      "\nThe above exception was the direct cause of the following exception:\n",
      "\u001b[0;31mModuleNotFoundError\u001b[0m                       Traceback (most recent call last)",
      "Cell \u001b[0;32mIn[4], line 14\u001b[0m\n\u001b[1;32m      4\u001b[0m num_rows \u001b[38;5;241m=\u001b[39m \u001b[38;5;241m1000\u001b[39m\n\u001b[1;32m      6\u001b[0m \u001b[38;5;66;03m# Lee el archivo JSON en bloques de tamaño 'num_rows'\u001b[39;00m\n\u001b[1;32m      7\u001b[0m \u001b[38;5;66;03m#df = pd.read_json(file_path, lines=True, convert_dates=False)\u001b[39;00m\n\u001b[1;32m      8\u001b[0m \u001b[38;5;66;03m#df_selected = df[['date', 'user']].copy()\u001b[39;00m\n\u001b[0;32m   (...)\u001b[0m\n\u001b[1;32m     11\u001b[0m \u001b[38;5;66;03m#df_selected['date'] = df_selected['date'].apply(lambda x: x[:10])\u001b[39;00m\n\u001b[1;32m     12\u001b[0m \u001b[38;5;66;03m#df_selecteddf.groupby(\"Product_Category\").first()\u001b[39;00m\n\u001b[0;32m---> 14\u001b[0m df \u001b[38;5;241m=\u001b[39m \u001b[43mpd\u001b[49m\u001b[38;5;241;43m.\u001b[39;49m\u001b[43mread_json\u001b[49m\u001b[43m(\u001b[49m\u001b[43mfile_path\u001b[49m\u001b[43m,\u001b[49m\u001b[43m \u001b[49m\u001b[43mlines\u001b[49m\u001b[38;5;241;43m=\u001b[39;49m\u001b[38;5;28;43;01mTrue\u001b[39;49;00m\u001b[43m,\u001b[49m\u001b[43m \u001b[49m\u001b[43mconvert_dates\u001b[49m\u001b[38;5;241;43m=\u001b[39;49m\u001b[38;5;28;43;01mFalse\u001b[39;49;00m\u001b[43m)\u001b[49m\n\u001b[1;32m     15\u001b[0m df_selected \u001b[38;5;241m=\u001b[39m df[[\u001b[38;5;124m'\u001b[39m\u001b[38;5;124mdate\u001b[39m\u001b[38;5;124m'\u001b[39m, \u001b[38;5;124m'\u001b[39m\u001b[38;5;124muser\u001b[39m\u001b[38;5;124m'\u001b[39m]]\u001b[38;5;241m.\u001b[39mcopy()\n\u001b[1;32m     16\u001b[0m df[\u001b[38;5;124m'\u001b[39m\u001b[38;5;124muser\u001b[39m\u001b[38;5;124m'\u001b[39m] \u001b[38;5;241m=\u001b[39m df[\u001b[38;5;124m'\u001b[39m\u001b[38;5;124muser\u001b[39m\u001b[38;5;124m'\u001b[39m]\u001b[38;5;241m.\u001b[39mapply(\u001b[38;5;28;01mlambda\u001b[39;00m x: x[\u001b[38;5;124m'\u001b[39m\u001b[38;5;124musername\u001b[39m\u001b[38;5;124m'\u001b[39m])\n",
      "File \u001b[0;32m~/Library/Python/3.9/lib/python/site-packages/modin/utils.py:496\u001b[0m, in \u001b[0;36mexpanduser_path_arg.<locals>.decorator.<locals>.wrapped\u001b[0;34m(*args, **kw)\u001b[0m\n\u001b[1;32m    494\u001b[0m     \u001b[38;5;28;01melif\u001b[39;00m \u001b[38;5;28misinstance\u001b[39m(patharg, Path):\n\u001b[1;32m    495\u001b[0m         params\u001b[38;5;241m.\u001b[39marguments[argname] \u001b[38;5;241m=\u001b[39m patharg\u001b[38;5;241m.\u001b[39mexpanduser()\n\u001b[0;32m--> 496\u001b[0m     \u001b[38;5;28;01mreturn\u001b[39;00m \u001b[43mfunc\u001b[49m\u001b[43m(\u001b[49m\u001b[38;5;241;43m*\u001b[39;49m\u001b[43mparams\u001b[49m\u001b[38;5;241;43m.\u001b[39;49m\u001b[43margs\u001b[49m\u001b[43m,\u001b[49m\u001b[43m \u001b[49m\u001b[38;5;241;43m*\u001b[39;49m\u001b[38;5;241;43m*\u001b[39;49m\u001b[43mparams\u001b[49m\u001b[38;5;241;43m.\u001b[39;49m\u001b[43mkwargs\u001b[49m\u001b[43m)\u001b[49m\n\u001b[1;32m    497\u001b[0m \u001b[38;5;28;01mreturn\u001b[39;00m func(\u001b[38;5;241m*\u001b[39margs, \u001b[38;5;241m*\u001b[39m\u001b[38;5;241m*\u001b[39mkw)\n",
      "File \u001b[0;32m~/Library/Python/3.9/lib/python/site-packages/modin/logging/logger_decorator.py:125\u001b[0m, in \u001b[0;36menable_logging.<locals>.decorator.<locals>.run_and_log\u001b[0;34m(*args, **kwargs)\u001b[0m\n\u001b[1;32m    110\u001b[0m \u001b[38;5;250m\u001b[39m\u001b[38;5;124;03m\"\"\"\u001b[39;00m\n\u001b[1;32m    111\u001b[0m \u001b[38;5;124;03mCompute function with logging if Modin logging is enabled.\u001b[39;00m\n\u001b[1;32m    112\u001b[0m \n\u001b[0;32m   (...)\u001b[0m\n\u001b[1;32m    122\u001b[0m \u001b[38;5;124;03mAny\u001b[39;00m\n\u001b[1;32m    123\u001b[0m \u001b[38;5;124;03m\"\"\"\u001b[39;00m\n\u001b[1;32m    124\u001b[0m \u001b[38;5;28;01mif\u001b[39;00m LogMode\u001b[38;5;241m.\u001b[39mget() \u001b[38;5;241m==\u001b[39m \u001b[38;5;124m\"\u001b[39m\u001b[38;5;124mdisable\u001b[39m\u001b[38;5;124m\"\u001b[39m:\n\u001b[0;32m--> 125\u001b[0m     \u001b[38;5;28;01mreturn\u001b[39;00m \u001b[43mobj\u001b[49m\u001b[43m(\u001b[49m\u001b[38;5;241;43m*\u001b[39;49m\u001b[43margs\u001b[49m\u001b[43m,\u001b[49m\u001b[43m \u001b[49m\u001b[38;5;241;43m*\u001b[39;49m\u001b[38;5;241;43m*\u001b[39;49m\u001b[43mkwargs\u001b[49m\u001b[43m)\u001b[49m\n\u001b[1;32m    127\u001b[0m logger \u001b[38;5;241m=\u001b[39m get_logger()\n\u001b[1;32m    128\u001b[0m logger\u001b[38;5;241m.\u001b[39mlog(log_level, start_line)\n",
      "File \u001b[0;32m~/Library/Python/3.9/lib/python/site-packages/modin/pandas/io.py:367\u001b[0m, in \u001b[0;36mread_json\u001b[0;34m(path_or_buf, orient, typ, dtype, convert_axes, convert_dates, keep_default_dates, precise_float, date_unit, encoding, encoding_errors, lines, chunksize, compression, nrows, storage_options, dtype_backend, engine)\u001b[0m\n\u001b[1;32m    363\u001b[0m _, _, _, kwargs \u001b[38;5;241m=\u001b[39m inspect\u001b[38;5;241m.\u001b[39mgetargvalues(inspect\u001b[38;5;241m.\u001b[39mcurrentframe())\n\u001b[1;32m    365\u001b[0m \u001b[38;5;28;01mfrom\u001b[39;00m \u001b[38;5;21;01mmodin\u001b[39;00m\u001b[38;5;21;01m.\u001b[39;00m\u001b[38;5;21;01mcore\u001b[39;00m\u001b[38;5;21;01m.\u001b[39;00m\u001b[38;5;21;01mexecution\u001b[39;00m\u001b[38;5;21;01m.\u001b[39;00m\u001b[38;5;21;01mdispatching\u001b[39;00m\u001b[38;5;21;01m.\u001b[39;00m\u001b[38;5;21;01mfactories\u001b[39;00m\u001b[38;5;21;01m.\u001b[39;00m\u001b[38;5;21;01mdispatcher\u001b[39;00m \u001b[38;5;28;01mimport\u001b[39;00m FactoryDispatcher\n\u001b[0;32m--> 367\u001b[0m \u001b[38;5;28;01mreturn\u001b[39;00m ModinObjects\u001b[38;5;241m.\u001b[39mDataFrame(query_compiler\u001b[38;5;241m=\u001b[39m\u001b[43mFactoryDispatcher\u001b[49m\u001b[38;5;241;43m.\u001b[39;49m\u001b[43mread_json\u001b[49m\u001b[43m(\u001b[49m\u001b[38;5;241;43m*\u001b[39;49m\u001b[38;5;241;43m*\u001b[39;49m\u001b[43mkwargs\u001b[49m\u001b[43m)\u001b[49m)\n",
      "File \u001b[0;32m~/Library/Python/3.9/lib/python/site-packages/modin/core/execution/dispatching/factories/dispatcher.py:212\u001b[0m, in \u001b[0;36mFactoryDispatcher.read_json\u001b[0;34m(cls, **kwargs)\u001b[0m\n\u001b[1;32m    209\u001b[0m \u001b[38;5;129m@classmethod\u001b[39m\n\u001b[1;32m    210\u001b[0m \u001b[38;5;129m@_inherit_docstrings\u001b[39m(factories\u001b[38;5;241m.\u001b[39mBaseFactory\u001b[38;5;241m.\u001b[39m_read_json)\n\u001b[1;32m    211\u001b[0m \u001b[38;5;28;01mdef\u001b[39;00m \u001b[38;5;21mread_json\u001b[39m(\u001b[38;5;28mcls\u001b[39m, \u001b[38;5;241m*\u001b[39m\u001b[38;5;241m*\u001b[39mkwargs):\n\u001b[0;32m--> 212\u001b[0m     \u001b[38;5;28;01mreturn\u001b[39;00m \u001b[38;5;28;43mcls\u001b[39;49m\u001b[38;5;241;43m.\u001b[39;49m\u001b[43mget_factory\u001b[49m\u001b[43m(\u001b[49m\u001b[43m)\u001b[49m\u001b[38;5;241m.\u001b[39m_read_json(\u001b[38;5;241m*\u001b[39m\u001b[38;5;241m*\u001b[39mkwargs)\n",
      "File \u001b[0;32m~/Library/Python/3.9/lib/python/site-packages/modin/core/execution/dispatching/factories/dispatcher.py:116\u001b[0m, in \u001b[0;36mFactoryDispatcher.get_factory\u001b[0;34m(cls)\u001b[0m\n\u001b[1;32m    113\u001b[0m     \u001b[38;5;28;01mfrom\u001b[39;00m \u001b[38;5;21;01mmodin\u001b[39;00m\u001b[38;5;21;01m.\u001b[39;00m\u001b[38;5;21;01mpandas\u001b[39;00m \u001b[38;5;28;01mimport\u001b[39;00m _update_engine\n\u001b[1;32m    115\u001b[0m     Engine\u001b[38;5;241m.\u001b[39msubscribe(_update_engine)\n\u001b[0;32m--> 116\u001b[0m     \u001b[43mEngine\u001b[49m\u001b[38;5;241;43m.\u001b[39;49m\u001b[43msubscribe\u001b[49m\u001b[43m(\u001b[49m\u001b[38;5;28;43mcls\u001b[39;49m\u001b[38;5;241;43m.\u001b[39;49m\u001b[43m_update_factory\u001b[49m\u001b[43m)\u001b[49m\n\u001b[1;32m    117\u001b[0m     StorageFormat\u001b[38;5;241m.\u001b[39msubscribe(\u001b[38;5;28mcls\u001b[39m\u001b[38;5;241m.\u001b[39m_update_factory)\n\u001b[1;32m    118\u001b[0m \u001b[38;5;28;01mreturn\u001b[39;00m \u001b[38;5;28mcls\u001b[39m\u001b[38;5;241m.\u001b[39m__factory\n",
      "File \u001b[0;32m~/Library/Python/3.9/lib/python/site-packages/modin/config/pubsub.py:293\u001b[0m, in \u001b[0;36mParameter.subscribe\u001b[0;34m(cls, callback)\u001b[0m\n\u001b[1;32m    284\u001b[0m \u001b[38;5;250m\u001b[39m\u001b[38;5;124;03m\"\"\"\u001b[39;00m\n\u001b[1;32m    285\u001b[0m \u001b[38;5;124;03mAdd `callback` to the `_subs` list and then execute it.\u001b[39;00m\n\u001b[1;32m    286\u001b[0m \n\u001b[0;32m   (...)\u001b[0m\n\u001b[1;32m    290\u001b[0m \u001b[38;5;124;03m    Callable to execute.\u001b[39;00m\n\u001b[1;32m    291\u001b[0m \u001b[38;5;124;03m\"\"\"\u001b[39;00m\n\u001b[1;32m    292\u001b[0m \u001b[38;5;28mcls\u001b[39m\u001b[38;5;241m.\u001b[39m_subs\u001b[38;5;241m.\u001b[39mappend(callback)\n\u001b[0;32m--> 293\u001b[0m \u001b[43mcallback\u001b[49m\u001b[43m(\u001b[49m\u001b[38;5;28;43mcls\u001b[39;49m\u001b[43m)\u001b[49m\n",
      "File \u001b[0;32m~/Library/Python/3.9/lib/python/site-packages/modin/core/execution/dispatching/factories/dispatcher.py:157\u001b[0m, in \u001b[0;36mFactoryDispatcher._update_factory\u001b[0;34m(cls, *args)\u001b[0m\n\u001b[1;32m    152\u001b[0m \u001b[38;5;28;01mexcept\u001b[39;00m \u001b[38;5;167;01mModuleNotFoundError\u001b[39;00m \u001b[38;5;28;01mas\u001b[39;00m err:\n\u001b[1;32m    153\u001b[0m     \u001b[38;5;66;03m# incorrectly initialized, should be reset to None again\u001b[39;00m\n\u001b[1;32m    154\u001b[0m     \u001b[38;5;66;03m# so that an unobvious error does not appear in the following code:\u001b[39;00m\n\u001b[1;32m    155\u001b[0m     \u001b[38;5;66;03m# \"AttributeError: 'NoneType' object has no attribute 'from_non_pandas'\"\u001b[39;00m\n\u001b[1;32m    156\u001b[0m     \u001b[38;5;28mcls\u001b[39m\u001b[38;5;241m.\u001b[39m__factory \u001b[38;5;241m=\u001b[39m \u001b[38;5;28;01mNone\u001b[39;00m\n\u001b[0;32m--> 157\u001b[0m     \u001b[38;5;28;01mraise\u001b[39;00m \u001b[38;5;167;01mModuleNotFoundError\u001b[39;00m(\n\u001b[1;32m    158\u001b[0m         \u001b[38;5;124mf\u001b[39m\u001b[38;5;124m\"\u001b[39m\u001b[38;5;124mMake sure all required packages are installed: \u001b[39m\u001b[38;5;132;01m{\u001b[39;00m\u001b[38;5;28mstr\u001b[39m(err)\u001b[38;5;132;01m}\u001b[39;00m\u001b[38;5;124m\"\u001b[39m\n\u001b[1;32m    159\u001b[0m     ) \u001b[38;5;28;01mfrom\u001b[39;00m \u001b[38;5;21;01merr\u001b[39;00m\n\u001b[1;32m    160\u001b[0m \u001b[38;5;28;01mexcept\u001b[39;00m \u001b[38;5;167;01mBaseException\u001b[39;00m:\n\u001b[1;32m    161\u001b[0m     \u001b[38;5;28mcls\u001b[39m\u001b[38;5;241m.\u001b[39m__factory \u001b[38;5;241m=\u001b[39m \u001b[38;5;28;01mNone\u001b[39;00m\n",
      "\u001b[0;31mModuleNotFoundError\u001b[0m: Make sure all required packages are installed: No module named 'pyarrow'"
     ]
    }
   ],
   "source": [
    "#import pandas as pd\n",
    "\n",
    "# Especifica el número de filas a leer\n",
    "num_rows = 1000\n",
    "\n",
    "# Lee el archivo JSON en bloques de tamaño 'num_rows'\n",
    "#df = pd.read_json(file_path, lines=True, convert_dates=False)\n",
    "#df_selected = df[['date', 'user']].copy()\n",
    "#del df\n",
    "#df_selected['user'] = df_selected['user'].apply(lambda x: x['username'])\n",
    "#df_selected['date'] = df_selected['date'].apply(lambda x: x[:10])\n",
    "#df_selecteddf.groupby(\"Product_Category\").first()\n",
    "\n",
    "df = pd.read_json(file_path, lines=True, convert_dates=False)\n",
    "df_selected = df[['date', 'user']].copy()\n",
    "df['user'] = df['user'].apply(lambda x: x['username'])\n",
    "df['date'] = df['date'].apply(lambda x: x[:10])"
   ]
  },
  {
   "cell_type": "code",
   "execution_count": 19,
   "metadata": {},
   "outputs": [
    {
     "data": {
      "text/plain": [
       "'2021-02-24'"
      ]
     },
     "execution_count": 19,
     "metadata": {},
     "output_type": "execute_result"
    }
   ],
   "source": [
    "df_selected.loc[0,\"date\"]"
   ]
  },
  {
   "cell_type": "code",
   "execution_count": 84,
   "metadata": {},
   "outputs": [
    {
     "data": {
      "text/plain": [
       "[('2021-02-19', 'Preetm91', 267),\n",
       " ('2021-02-18', 'neetuanjle_nitu', 195),\n",
       " ('2021-02-17', 'RaaJVinderkaur', 185),\n",
       " ('2021-02-13', 'MaanDee08215437', 178),\n",
       " ('2021-02-12', 'RanbirS00614606', 176),\n",
       " ('2021-02-21', 'Surrypuria', 161),\n",
       " ('2021-02-23', 'Surrypuria', 135),\n",
       " ('2021-02-15', 'jot__b', 134),\n",
       " ('2021-02-16', 'jot__b', 133),\n",
       " ('2021-02-14', 'rebelpacifist', 119)]"
      ]
     },
     "execution_count": 84,
     "metadata": {},
     "output_type": "execute_result"
    }
   ],
   "source": [
    "from datetime import datetime\n",
    "group = df_selected.groupby([\"date\",\"user\"]).size().reset_index(name='count')\n",
    "group = group.groupby(\"date\").apply(lambda groupdate: groupdate.nlargest(1, 'count')).reset_index(drop=True).nlargest(10, 'count').reset_index(drop=True)\n",
    "group\n",
    "#[(datetime.fromisoformat(i), group[i][0]) for i in group[\"date\"]]\n",
    "[tuple(group.loc[i]) for i in range(len(group))]"
   ]
  },
  {
   "cell_type": "code",
   "execution_count": 6,
   "metadata": {},
   "outputs": [
    {
     "name": "stdout",
     "output_type": "stream",
     "text": [
      "Counter({'2021-02-12': 12347, '2021-02-13': 11296, '2021-02-17': 11087, '2021-02-16': 10443, '2021-02-14': 10249, '2021-02-18': 9625, '2021-02-15': 9197, '2021-02-20': 8502, '2021-02-23': 8417, '2021-02-19': 8204, '2021-02-21': 7532, '2021-02-22': 7071, '2021-02-24': 3437})\n"
     ]
    }
   ],
   "source": [
    "from q1_time import q1_time\n",
    "from q1_memory import q1_memory\n",
    "file_path = \"farmers-protest-tweets-2021-2-4.json\"\n",
    "\n",
    "rr = q1_time(file_path)\n",
    "print(rr)\n",
    "#print(q1_memory(file_path))\n",
    "\n",
    "[('2021-02-12', [('RanbirS00614606', 176)]), ('2021-02-13', [('MaanDee08215437', 178)]), ('2021-02-17', [('RaaJVinderkaur', 185)]), ('2021-02-16', [('jot__b', 133)]), ('2021-02-14', [('rebelpacifist', 119)]), ('2021-02-18', [('neetuanjle_nitu', 195)]), ('2021-02-15', [('jot__b', 134)]), ('2021-02-20', [('MangalJ23056160', 108)]), ('2021-02-23', [('Surrypuria', 135)]), ('2021-02-19', [('Preetm91', 267)])]"
   ]
  },
  {
   "cell_type": "code",
   "execution_count": 1,
   "metadata": {},
   "outputs": [],
   "source": [
    "import ray\n",
    "#ray.init(num_cpus=4)\n",
    "import modin.pandas as pd"
   ]
  },
  {
   "cell_type": "code",
   "execution_count": 11,
   "metadata": {},
   "outputs": [
    {
     "data": {
      "text/plain": [
       "dict_values([3437, 8417, 7071, 7532, 8502, 8204, 9625, 11087, 10443, 9197, 10249, 11296, 12347])"
      ]
     },
     "execution_count": 11,
     "metadata": {},
     "output_type": "execute_result"
    }
   ],
   "source": [
    "#c2 = Counter(map(lambda tweet: maptw(json.loads(tweet)), rr))\n",
    "rr.values()"
   ]
  }
 ],
 "metadata": {
  "kernelspec": {
   "display_name": "Python 3 (ipykernel)",
   "language": "python",
   "name": "python3"
  },
  "language_info": {
   "codemirror_mode": {
    "name": "ipython",
    "version": 3
   },
   "file_extension": ".py",
   "mimetype": "text/x-python",
   "name": "python",
   "nbconvert_exporter": "python",
   "pygments_lexer": "ipython3",
   "version": "3.9.6"
  }
 },
 "nbformat": 4,
 "nbformat_minor": 4
}
