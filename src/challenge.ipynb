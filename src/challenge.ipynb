{
 "cells": [
  {
   "cell_type": "markdown",
   "metadata": {},
   "source": [
    "En este archivo puedes escribir lo que estimes conveniente. Te recomendamos detallar tu solución y todas las suposiciones que estás considerando. Aquí puedes ejecutar las funciones que definiste en los otros archivos de la carpeta src, medir el tiempo, memoria, etc."
   ]
  },
  {
   "cell_type": "code",
   "execution_count": 1,
   "metadata": {
    "scrolled": true
   },
   "outputs": [],
   "source": [
    "#!pip3 install -r ../requirements.txt"
   ]
  },
  {
   "cell_type": "code",
   "execution_count": 2,
   "metadata": {},
   "outputs": [],
   "source": [
    "from cProfile import Profile\n",
    "from pstats import SortKey, Stats\n",
    "from q1_memory import q1_memory\n",
    "from q1_time import q1_time\n",
    "from memory_profiler import memory_usage\n",
    "from statistics import mean\n",
    "import pprint\n",
    "from datetime import datetime"
   ]
  },
  {
   "cell_type": "code",
   "execution_count": 3,
   "metadata": {},
   "outputs": [],
   "source": [
    "file_path = \"farmers-protest-tweets-2021-2-4.json\""
   ]
  },
  {
   "cell_type": "code",
   "execution_count": 4,
   "metadata": {},
   "outputs": [
    {
     "name": "stdout",
     "output_type": "stream",
     "text": [
      "[(datetime.datetime(2021, 2, 12, 0, 0), 'RanbirS00614606'),\n",
      " (datetime.datetime(2021, 2, 13, 0, 0), 'MaanDee08215437'),\n",
      " (datetime.datetime(2021, 2, 14, 0, 0), 'rebelpacifist'),\n",
      " (datetime.datetime(2021, 2, 15, 0, 0), 'jot__b'),\n",
      " (datetime.datetime(2021, 2, 16, 0, 0), 'jot__b'),\n",
      " (datetime.datetime(2021, 2, 17, 0, 0), 'RaaJVinderkaur'),\n",
      " (datetime.datetime(2021, 2, 18, 0, 0), 'neetuanjle_nitu'),\n",
      " (datetime.datetime(2021, 2, 19, 0, 0), 'Preetm91'),\n",
      " (datetime.datetime(2021, 2, 20, 0, 0), 'MangalJ23056160'),\n",
      " (datetime.datetime(2021, 2, 23, 0, 0), 'Surrypuria')]\n",
      "time 4.397011449\n",
      "[(datetime.datetime(2021, 2, 12, 0, 0), 'RanbirS00614606'),\n",
      " (datetime.datetime(2021, 2, 13, 0, 0), 'MaanDee08215437'),\n",
      " (datetime.datetime(2021, 2, 14, 0, 0), 'rebelpacifist'),\n",
      " (datetime.datetime(2021, 2, 15, 0, 0), 'jot__b'),\n",
      " (datetime.datetime(2021, 2, 16, 0, 0), 'jot__b'),\n",
      " (datetime.datetime(2021, 2, 17, 0, 0), 'RaaJVinderkaur'),\n",
      " (datetime.datetime(2021, 2, 18, 0, 0), 'neetuanjle_nitu'),\n",
      " (datetime.datetime(2021, 2, 19, 0, 0), 'Preetm91'),\n",
      " (datetime.datetime(2021, 2, 20, 0, 0), 'MangalJ23056160'),\n",
      " (datetime.datetime(2021, 2, 23, 0, 0), 'Surrypuria')]\n",
      "time 3.9825841739999985\n"
     ]
    }
   ],
   "source": [
    "\n",
    "with Profile() as profile:\n",
    "    RS = q1_memory(file_path)\n",
    "    stats = Stats(profile)\n",
    "    stats.strip_dirs()\n",
    "    #.sort_stats(SortKey.CUMULATIVE)\n",
    "    #.print_stats(10)\n",
    "\n",
    "pprint.pprint(RS)\n",
    "total_time = sum(stat[2] for stat in stats.stats.values())\n",
    "#mem_used = mean(memory_usage((q1_memory,(),{'file_path':file_path}),interval=0.1))\n",
    "#print(\"\\nmemory\", mem_used)\n",
    "print(\"time\", total_time)\n",
    "\n",
    "with Profile() as profile:\n",
    "    RS2 = q1_time(file_path)\n",
    "    stats2 = Stats(profile)\n",
    "    stats2.strip_dirs()\n",
    "    #.sort_stats(SortKey.CUMULATIVE)\n",
    "    #.print_stats(10)\n",
    "\n",
    "pprint.pprint(RS2)\n",
    "#mem_used2 = mean(memory_usage((q1_time,(),{'file_path':file_path}),interval=0.1))\n",
    "total_time2 = sum(stat[2] for stat in stats2.stats.values())\n",
    "#print(\"\\nmemory\", mem_used2)\n",
    "print(\"time\", total_time2)\n",
    "assert(RS == RS2)"
   ]
  },
  {
   "cell_type": "code",
   "execution_count": 5,
   "metadata": {},
   "outputs": [
    {
     "name": "stdout",
     "output_type": "stream",
     "text": [
      "[('🙏', 5049),\n",
      " ('😂', 3072),\n",
      " ('🚜', 2972),\n",
      " ('🌾', 2182),\n",
      " ('🇮🇳', 2086),\n",
      " ('🤣', 1668),\n",
      " ('✊', 1651),\n",
      " ('❤️', 1382),\n",
      " ('🙏🏻', 1317),\n",
      " ('💚', 1040)]\n",
      "\n",
      "memory 127.42312409156976\n",
      "time 30.867466067000006\n",
      "[('🙏', 5049),\n",
      " ('😂', 3072),\n",
      " ('🚜', 2972),\n",
      " ('🌾', 2182),\n",
      " ('🇮🇳', 2086),\n",
      " ('🤣', 1668),\n",
      " ('✊', 1651),\n",
      " ('❤️', 1382),\n",
      " ('🙏🏻', 1317),\n",
      " ('💚', 1040)]\n",
      "\n",
      "memory 499.89284393491124\n",
      "time 16.664878012000003\n"
     ]
    }
   ],
   "source": [
    "from cProfile import Profile\n",
    "from pstats import SortKey, Stats\n",
    "from q2_memory import q2_memory\n",
    "from q2_time import q2_time\n",
    "from memory_profiler import memory_usage\n",
    "from statistics import mean\n",
    "\n",
    "file_path = \"farmers-protest-tweets-2021-2-4.json\"\n",
    "with Profile() as profile:\n",
    "    RS = q2_memory(file_path)\n",
    "    stats = Stats(profile)\n",
    "    stats.strip_dirs()\n",
    "    #.sort_stats(SortKey.CUMULATIVE)\n",
    "    #.print_stats(10)\n",
    "\n",
    "pprint.pprint(RS)\n",
    "total_time = sum(stat[2] for stat in stats.stats.values())\n",
    "mem_used = mean(memory_usage((q2_memory,(),{'file_path':file_path}),interval=0.1))\n",
    "print(\"\\nmemory\", mem_used)\n",
    "print(\"time\", total_time)\n",
    "\n",
    "with Profile() as profile:\n",
    "    RS2 = q2_time(file_path)\n",
    "    stats2 = Stats(profile)\n",
    "    stats2.strip_dirs()\n",
    "    #.sort_stats(SortKey.CUMULATIVE)\n",
    "    #.print_stats(10)\n",
    "\n",
    "pprint.pprint(RS2)\n",
    "mem_used2 = mean(memory_usage((q2_time,(),{'file_path':file_path}),interval=0.1))\n",
    "total_time2 = sum(stat[2] for stat in stats2.stats.values())\n",
    "print(\"\\nmemory\", mem_used2)\n",
    "print(\"time\", total_time2)\n",
    "assert(RS == RS2)"
   ]
  },
  {
   "cell_type": "code",
   "execution_count": 6,
   "metadata": {},
   "outputs": [
    {
     "name": "stdout",
     "output_type": "stream",
     "text": [
      "[('NARENDRAMODI', 2266),\n",
      " ('KISANEKTAMORCHA', 1840),\n",
      " ('RAKESHTIKAITBKU', 1642),\n",
      " ('PMOINDIA', 1427),\n",
      " ('RAHULGANDHI', 1146),\n",
      " ('GRETATHUNBERG', 1048),\n",
      " ('RAVISINGHKA', 1019),\n",
      " ('RIHANNA', 986),\n",
      " ('UNHUMANRIGHTS', 962),\n",
      " ('MEENAHARRIS', 926)]\n",
      "\n",
      "memory 167.27118055555556\n",
      "time 4.941426472\n",
      "[('NARENDRAMODI', 2266),\n",
      " ('KISANEKTAMORCHA', 1840),\n",
      " ('RAKESHTIKAITBKU', 1642),\n",
      " ('PMOINDIA', 1427),\n",
      " ('RAHULGANDHI', 1146),\n",
      " ('GRETATHUNBERG', 1048),\n",
      " ('RAVISINGHKA', 1019),\n",
      " ('RIHANNA', 986),\n",
      " ('UNHUMANRIGHTS', 962),\n",
      " ('MEENAHARRIS', 926)]\n",
      "\n",
      "memory 471.72977430555557\n",
      "time 4.255958143\n"
     ]
    }
   ],
   "source": [
    "from cProfile import Profile\n",
    "from pstats import SortKey, Stats\n",
    "from q3_memory import q3_memory\n",
    "from q3_time import q3_time\n",
    "from memory_profiler import memory_usage\n",
    "from statistics import mean\n",
    "\n",
    "file_path = \"farmers-protest-tweets-2021-2-4.json\"\n",
    "with Profile() as profile:\n",
    "    RS = q3_memory(file_path)\n",
    "    stats = Stats(profile)\n",
    "    stats.strip_dirs()\n",
    "    #.sort_stats(SortKey.CUMULATIVE)\n",
    "    #.print_stats(10)\n",
    "\n",
    "pprint.pprint(RS)\n",
    "total_time = sum(stat[2] for stat in stats.stats.values())\n",
    "mem_used = mean(memory_usage((q3_memory,(),{'file_path':file_path}),interval=0.1))\n",
    "print(\"\\nmemory\", mem_used)\n",
    "print(\"time\", total_time)\n",
    "\n",
    "with Profile() as profile:\n",
    "    RS2 = q3_time(file_path)\n",
    "    stats2 = Stats(profile)\n",
    "    stats2.strip_dirs()\n",
    "    #.sort_stats(SortKey.CUMULATIVE)\n",
    "    #.print_stats(10)\n",
    "\n",
    "pprint.pprint(RS2)\n",
    "mem_used2 = mean(memory_usage((q3_time,(),{'file_path':file_path}),interval=0.1))\n",
    "total_time2 = sum(stat[2] for stat in stats2.stats.values())\n",
    "print(\"\\nmemory\", mem_used2)\n",
    "print(\"time\", total_time2)\n",
    "assert(RS == RS2)"
   ]
  },
  {
   "cell_type": "code",
   "execution_count": 7,
   "metadata": {},
   "outputs": [
    {
     "name": "stdout",
     "output_type": "stream",
     "text": [
      "CPU times: user 8.61 s, sys: 1.94 s, total: 10.5 s\n",
      "Wall time: 9.96 s\n"
     ]
    },
    {
     "data": {
      "text/html": [
       "<div>\n",
       "<style scoped>\n",
       "    .dataframe tbody tr th:only-of-type {\n",
       "        vertical-align: middle;\n",
       "    }\n",
       "\n",
       "    .dataframe tbody tr th {\n",
       "        vertical-align: top;\n",
       "    }\n",
       "\n",
       "    .dataframe thead th {\n",
       "        text-align: right;\n",
       "    }\n",
       "</style>\n",
       "<table border=\"1\" class=\"dataframe\">\n",
       "  <thead>\n",
       "    <tr style=\"text-align: right;\">\n",
       "      <th></th>\n",
       "      <th>date</th>\n",
       "      <th>user</th>\n",
       "    </tr>\n",
       "  </thead>\n",
       "  <tbody>\n",
       "    <tr>\n",
       "      <th>0</th>\n",
       "      <td>2021-02-24</td>\n",
       "      <td>ArjunSinghPanam</td>\n",
       "    </tr>\n",
       "    <tr>\n",
       "      <th>1</th>\n",
       "      <td>2021-02-24</td>\n",
       "      <td>PrdeepNain</td>\n",
       "    </tr>\n",
       "    <tr>\n",
       "      <th>2</th>\n",
       "      <td>2021-02-24</td>\n",
       "      <td>parmarmaninder</td>\n",
       "    </tr>\n",
       "    <tr>\n",
       "      <th>3</th>\n",
       "      <td>2021-02-24</td>\n",
       "      <td>anmoldhaliwal</td>\n",
       "    </tr>\n",
       "    <tr>\n",
       "      <th>4</th>\n",
       "      <td>2021-02-24</td>\n",
       "      <td>KotiaPreet</td>\n",
       "    </tr>\n",
       "  </tbody>\n",
       "</table>\n",
       "</div>"
      ],
      "text/plain": [
       "         date             user\n",
       "0  2021-02-24  ArjunSinghPanam\n",
       "1  2021-02-24       PrdeepNain\n",
       "2  2021-02-24   parmarmaninder\n",
       "3  2021-02-24    anmoldhaliwal\n",
       "4  2021-02-24       KotiaPreet"
      ]
     },
     "execution_count": 7,
     "metadata": {},
     "output_type": "execute_result"
    }
   ],
   "source": [
    "%%time\n",
    "import pandas as pd\n",
    "\n",
    "# Leo el archivo, le indico que cada linea es un json, y que las fechas las deje en string\n",
    "df = pd.read_json(file_path, lines=True, convert_dates=False)\n",
    "\n",
    "# Selecciono solamente las dos columnas que necesito, lo demás se pueder ir para liberrar memoria\n",
    "df_selected = df[['date', 'user']]\n",
    "\n",
    "# Elimino el dataframe original, ya que es excesivamente grande\n",
    "del df\n",
    "\n",
    "# Aplico la transformación del usuario, obtengo el username y me deshago de todo lo dem\n",
    "df_selected['user'] = df_selected['user'].apply(lambda x: x['username'])\n",
    "\n",
    "# Aplico la transformación de la fecha, para quedarme solo con AAAA-MM-DD, esto facilita los agrupamientos\n",
    "df_selected['date'] = df_selected['date'].apply(lambda x: x[:10])\n",
    "\n",
    "df_selected.head()"
   ]
  },
  {
   "cell_type": "code",
   "execution_count": 33,
   "metadata": {},
   "outputs": [
    {
     "name": "stdout",
     "output_type": "stream",
     "text": [
      "[(datetime.datetime(2021, 2, 12, 0, 0), 'RanbirS00614606'),\n",
      " (datetime.datetime(2021, 2, 13, 0, 0), 'MaanDee08215437'),\n",
      " (datetime.datetime(2021, 2, 14, 0, 0), 'rebelpacifist'),\n",
      " (datetime.datetime(2021, 2, 15, 0, 0), 'jot__b'),\n",
      " (datetime.datetime(2021, 2, 16, 0, 0), 'jot__b'),\n",
      " (datetime.datetime(2021, 2, 17, 0, 0), 'RaaJVinderkaur'),\n",
      " (datetime.datetime(2021, 2, 18, 0, 0), 'neetuanjle_nitu'),\n",
      " (datetime.datetime(2021, 2, 19, 0, 0), 'Preetm91'),\n",
      " (datetime.datetime(2021, 2, 20, 0, 0), 'MangalJ23056160'),\n",
      " (datetime.datetime(2021, 2, 23, 0, 0), 'Surrypuria')]\n",
      "CPU times: user 142 ms, sys: 8.34 ms, total: 151 ms\n",
      "Wall time: 150 ms\n"
     ]
    },
    {
     "name": "stderr",
     "output_type": "stream",
     "text": [
      "<timed exec>:14: DeprecationWarning: DataFrameGroupBy.apply operated on the grouping columns. This behavior is deprecated, and in a future version of pandas the grouping columns will be excluded from the operation. Either pass `include_groups=False` to exclude the groupings or explicitly select the grouping columns after groupby to silence this warning.\n"
     ]
    }
   ],
   "source": [
    "%%time\n",
    "\n",
    "# Primera Agrupación de conteo por fecha. Esto nos da el conteo de tweets cada día.\n",
    "# Observe que se resetean los indices para que el agrupamiento de conteo se vuelva una columna llamada \"count\"\n",
    "group = df_selected.groupby([\"date\"]).size().reset_index(name=\"count\").nlargest(10, \"count\")\n",
    "\n",
    "# Se filtra el df principal para deshacernos de las fechas que ya no están en el top\n",
    "df_selected = df_selected[df_selected[\"date\"].isin(group[\"date\"])]\n",
    "del group\n",
    "\n",
    "# Segunda Agrupación de conteo por fecha y usuario al tiempo. Esto nos da el conteo de cada usuario en cada día.\n",
    "# Observe que se resetean los idices para volver a un dataframe con solo dos indices, el agrupamiento de conteo se vuelve una columna llamada \"count\"\n",
    "group2 = df_selected.groupby([\"date\",\"user\"]).size().reset_index(name='count')\n",
    "\n",
    "# Ya teniendo el conteo de cada usuario en cada día, volvemos a agrupar por fecha, esta vez quedadoos con aque usuario que tuvo más conteo, es decir, aquel que hizo más publicacioes cada día\n",
    "group2 = group2.groupby(\"date\").apply(lambda groupdate: groupdate.nlargest(1, 'count'))\n",
    "\n",
    "# este agrupamiento nos da el usuario más activo cada dia, juto con el indice en el que se encontraba\n",
    "group2 = group2.reset_index(drop=True)\n",
    "group2\n",
    "pprint.pprint([(datetime.fromisoformat(group2[\"date\"][i]), group2[\"user\"][i]) for i in range(len(group2))])"
   ]
  }
 ],
 "metadata": {
  "kernelspec": {
   "display_name": "Python 3 (ipykernel)",
   "language": "python",
   "name": "python3"
  },
  "language_info": {
   "codemirror_mode": {
    "name": "ipython",
    "version": 3
   },
   "file_extension": ".py",
   "mimetype": "text/x-python",
   "name": "python",
   "nbconvert_exporter": "python",
   "pygments_lexer": "ipython3",
   "version": "3.9.6"
  }
 },
 "nbformat": 4,
 "nbformat_minor": 4
}
